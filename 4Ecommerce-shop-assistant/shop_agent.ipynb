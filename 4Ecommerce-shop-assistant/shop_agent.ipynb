{
  "cells": [
    {
      "cell_type": "markdown",
      "id": "f57186ea",
      "metadata": {},
      "source": [
        "\n",
        "---\n",
        "\n",
        "# Building an E-commerce Shop Agent Recommendation AI Agent with ADK and Vector Search\n",
        "\n",
        "\n",
        "\n",
        "### What are Generative Recommendations?\n",
        "\n",
        "Generative Recommendation enables AI to do more than just match user queries to products. It can interpret the user's intent, conduct external research, and generate new, relevant search queries or suggestions based on context and deeper understanding.\n",
        "\n",
        "**Key features include:**\n",
        "\n",
        "1. **Understanding and Expanding User Intent:**  \n",
        "   The AI can infer the user's underlying needs. For example, if someone asks for a \"birthday present for a 10-year-old boy,\" the system doesn't just search for those exact words.\n",
        "\n",
        "2. **Using External Research (Google Search):**  \n",
        "   The AI leverages tools like Google Search to research what items are typically bought for a given purpose, such as popular gifts for 10-year-old boys.\n",
        "\n",
        "3. **Generating New Queries:**  \n",
        "   Based on its research, the AI creates a list of more specific and varied search queries, such as \"educational toys for 10-year-olds,\" \"adventure books for boys,\" or \"coding kits for kids,\" to broaden and refine the search results.\n",
        "\n",
        "In summary, Generative Recommendation goes beyond simple keyword matching. It proactively helps users discover products by generating new ideas and relevant search paths.\n",
        "\n",
        "**Workflow Overview:**\n",
        "\n",
        "The agent system you’ll build follows this process:\n",
        "\n",
        "1. The user asks the Shop Agent for a recommendation.\n",
        "2. The Shop Agent consults the Research Agent.\n",
        "3. The Research Agent uses Google Search to gather information and generates several targeted queries.\n",
        "4. The Shop Agent presents these queries to the user for approval.\n",
        "5. Upon approval, the Shop Agent uses the queries to search for items via the Vector Search backend.\n",
        "6. The results are returned to the user, completing the recommendation cycle.\n",
        "\n",
        "---\n",
        "\n"
      ]
    },
    {
      "cell_type": "markdown",
      "id": "ZyK62QElQv_K",
      "metadata": {
        "id": "ZyK62QElQv_K"
      },
      "source": [
        "## Install ADK\n",
        "\n",
        "First, we will install the ADK. In Colab Enterprise, you may see `ERROR: pip's dependency resolver does...` but you can ignore it."
      ]
    },
    {
      "cell_type": "code",
      "execution_count": 1,
      "id": "oeSkwKPttGh5YTX79KT9oM0E",
      "metadata": {
        "id": "oeSkwKPttGh5YTX79KT9oM0E",
        "tags": []
      },
      "outputs": [
        {
          "name": "stdout",
          "output_type": "stream",
          "text": [
            "\u001b[33mWARNING: Ignoring invalid distribution ~ympy (/opt/anaconda3/lib/python3.12/site-packages)\u001b[0m\u001b[33m\n",
            "\u001b[0m\u001b[33mWARNING: Ignoring invalid distribution ~ympy (/opt/anaconda3/lib/python3.12/site-packages)\u001b[0m\u001b[33m\n",
            "\u001b[0m\u001b[33mWARNING: Ignoring invalid distribution ~ympy (/opt/anaconda3/lib/python3.12/site-packages)\u001b[0m\u001b[33m\n",
            "\u001b[0m\u001b[33mWARNING: Ignoring invalid distribution ~ympy (/opt/anaconda3/lib/python3.12/site-packages)\u001b[0m\u001b[33m\n",
            "\u001b[0m\u001b[33mWARNING: Ignoring invalid distribution ~ympy (/opt/anaconda3/lib/python3.12/site-packages)\u001b[0m\u001b[33m\n",
            "\u001b[0m\u001b[33mWARNING: Ignoring invalid distribution ~ympy (/opt/anaconda3/lib/python3.12/site-packages)\u001b[0m\u001b[33m\n",
            "\u001b[0mNote: you may need to restart the kernel to use updated packages.\n"
          ]
        }
      ],
      "source": [
        "%pip install --upgrade google-adk==1.4.2 -q"
      ]
    },
    {
      "cell_type": "markdown",
      "id": "WoqdAfBRrRcR",
      "metadata": {
        "id": "WoqdAfBRrRcR"
      },
      "source": [
        "### Import the libraries"
      ]
    },
    {
      "cell_type": "code",
      "execution_count": 2,
      "id": "M22ecOwlgdYZ",
      "metadata": {
        "id": "M22ecOwlgdYZ"
      },
      "outputs": [],
      "source": [
        "import os \n",
        "import logging\n",
        "from google.adk.agents import Agent\n",
        "from google.adk.runners import Runner\n",
        "from google.adk.sessions import InMemorySessionService\n",
        "from google.adk.tools.agent_tool import AgentTool\n",
        "\n",
        "# Ignore warnings from ADK and Gemini APIs\n",
        "logging.getLogger(\"google.adk.runners\").setLevel(logging.ERROR)\n",
        "logging.getLogger(\"google_genai.types\").setLevel(logging.ERROR)\n",
        "\n"
      ]
    },
    {
      "cell_type": "code",
      "execution_count": 3,
      "id": "15d5b663",
      "metadata": {},
      "outputs": [],
      "source": [
        "from dotenv import load_dotenv\n",
        "\n",
        "load_dotenv()\n",
        "os.environ['GEMINI_API_KEY']=os.getenv('GEMINI_API_KEY')\n"
      ]
    },
    {
      "cell_type": "markdown",
      "id": "11963108",
      "metadata": {},
      "source": [
        "### Set environment variables\n",
        "\n",
        "Get an API key from [Google AI Studio](https://aistudio.google.com/apikey), set the key to the following `GOOGLE_API_KEY`, and run the cell to set the environment variables required for running ADK."
      ]
    },
    {
      "cell_type": "markdown",
      "id": "ynPYDwqjrVaa",
      "metadata": {
        "id": "ynPYDwqjrVaa"
      },
      "source": [
        "## Define **test_agent** function for testing agents\n",
        "\n",
        "For testing the agents we will build, we need to define a function `test_agent` that uses `Runner` and `SessionService` to emulate an agent runtime environment. To learn more about the agent runtime, see the [Agent Runtime](https://google.github.io/adk-docs/runtime/) doc."
      ]
    },
    {
      "cell_type": "code",
      "execution_count": 4,
      "id": "DFy28Xv38Ngu",
      "metadata": {
        "id": "DFy28Xv38Ngu"
      },
      "outputs": [],
      "source": [
        "from google.genai import types \n",
        "\n",
        "APP_NAME=\"shop_assitant_app\"\n",
        "USER_ID=\"user_1\"\n",
        "session_service=InMemorySessionService()\n",
        "\n",
        "async def test_agent(query,agent):\n",
        "    \n",
        "    print(f\"\\n>> query :{query}\")\n",
        "    \n",
        "    session=await session_service.create_session(\n",
        "        app_name=APP_NAME,\n",
        "        user_id=USER_ID\n",
        "    )\n",
        "    \n",
        "    runner=Runner(\n",
        "        app_name=APP_NAME,\n",
        "        agent=agent,\n",
        "        session_service=session_service\n",
        "    )\n",
        "    \n",
        "    content=types.Content(role='user',parts=[types.Part(text=query)])\n",
        "    \n",
        "    final_response_text=None\n",
        "    async for event in runner.run_async(user_id=USER_ID,session_id=session.id,new_message=content):\n",
        "        if event.is_final_response():\n",
        "            if event.content and event.content.parts:\n",
        "                final_response_text=event.content.parts[0].text \n",
        "            break\n",
        "    print(f\"<< Agent response:{final_response_text}\")       \n",
        "                "
      ]
    },
    {
      "cell_type": "markdown",
      "id": "TcVBA98xra0i",
      "metadata": {
        "id": "TcVBA98xra0i"
      },
      "source": [
        "## Define an **Shop agent**\n",
        "\n",
        "Let's define a shop agent and test it. Note that this agent does not have any search capability at this time."
      ]
    },
    {
      "cell_type": "code",
      "execution_count": 24,
      "id": "em9XplVkggtO",
      "metadata": {
        "id": "em9XplVkggtO"
      },
      "outputs": [],
      "source": [
        "instruction=f'''\n",
        "    Your role is a shop search agent on an e-commerce site with millions of\n",
        "    items. Your responsibility is to search items based on user queries.\n",
        "'''\n",
        "\n",
        "shop_agent = Agent(\n",
        "   model='gemini-2.5-flash',\n",
        "    name='shop_agent',\n",
        "    description=(\n",
        "        'Shop agent for an e-commerce site'\n",
        "    ),\n",
        "    instruction=instruction,\n",
        ")\n",
        "\n",
        "\n",
        "\n",
        "\n",
        "\n"
      ]
    },
    {
      "cell_type": "code",
      "execution_count": 25,
      "id": "aJGpLk7P-BQP",
      "metadata": {
        "colab": {
          "base_uri": "https://localhost:8080/"
        },
        "id": "aJGpLk7P-BQP",
        "outputId": "55606e8e-f663-4f7c-c1fb-1af5a5ec6817"
      },
      "outputs": [
        {
          "name": "stdout",
          "output_type": "stream",
          "text": [
            "\n",
            ">> query :What kind of site is this?\n",
            "<< Agent response:This is an e-commerce site where you can search for and buy millions of items.\n"
          ]
        }
      ],
      "source": [
        "await test_agent(\"What kind of site is this?\", shop_agent)\n"
      ]
    },
    {
      "cell_type": "code",
      "execution_count": null,
      "id": "6f09061f",
      "metadata": {},
      "outputs": [],
      "source": []
    },
    {
      "cell_type": "code",
      "execution_count": null,
      "id": "d1c3f840",
      "metadata": {},
      "outputs": [],
      "source": []
    },
    {
      "cell_type": "markdown",
      "id": "zcJJw0m6re_K",
      "metadata": {
        "id": "zcJJw0m6re_K"
      },
      "source": [
        "## Define **call_vector_search** to call the Vector Search backend\n",
        "\n",
        "With the basic agent above, we would like to add an item search capability. To achieve this, here we define a function `call_query_api` that sends an HTTP request to a REST endpoint provided by the [Vector Search Interactive demo](https://cloud.google.com/vertex-ai/docs/vector-search/try-it). For the detail of each parameter sent to the endpoint, refer to the demo page."
      ]
    },
    {
      "cell_type": "code",
      "execution_count": 30,
      "id": "y75WYLNchHPD",
      "metadata": {
        "id": "y75WYLNchHPD"
      },
      "outputs": [],
      "source": [
        "import requests\n",
        "import json\n",
        "\n",
        "def call_vector_search(url, query, rows=None):\n",
        "    \"\"\"\n",
        "    Calls the Vector Search backend for querying.\n",
        "\n",
        "    Args:\n",
        "        url (str): The URL of the search endpoint.\n",
        "        query (str): The query string.\n",
        "        rows (int, optional): The number of result rows to return. Defaults to None.\n",
        "\n",
        "    Returns:\n",
        "        dict: The JSON response from the API.\n",
        "    \"\"\"\n",
        "\n",
        "    # Build HTTP headers and a payload\n",
        "    headers = {'Content-Type': 'application/json'}\n",
        "    payload = {\n",
        "        \"query\": query,\n",
        "        \"rows\": rows,\n",
        "        \"dataset_id\": \"mercari3m_mm\", # Use Mercari 3M multimodal index\n",
        "        \"use_dense\": True, # Use multimodal search\n",
        "        \"use_sparse\": True, # Use keyword search too\n",
        "        \"rrf_alpha\": 0.5, # Both results are merged with the same weights\n",
        "        \"use_rerank\": True, # Use Ranking API for reranking\n",
        "    }\n",
        "\n",
        "    # Send an HTTP request to the search endpoint\n",
        "    try:\n",
        "        response = requests.post(url, headers=headers, data=json.dumps(payload))\n",
        "        response.raise_for_status()  # Raise an exception for bad status codes\n",
        "        return response.json()\n",
        "    except requests.exceptions.RequestException as e:\n",
        "        print(f\"Error calling the API: {e}\")\n",
        "        return None\n"
      ]
    },
    {
      "cell_type": "markdown",
      "id": "VQzZRzYdrtKg",
      "metadata": {
        "id": "VQzZRzYdrtKg"
      },
      "source": [
        "## Define **find_shopping_items** tool\n",
        "\n",
        "Now, we will wrap the `call_vector_search` function with an ADK Tool named `find_shopping_items`. Note that we need to 1) use the explicit typing such as `queries: list[str]` and 2) use the verbose docstring, both for conveying the functionality and semantics of this Tool to the agent.\n",
        "\n",
        "For details of the Tool mechanism of ADK, refer to the [Tools](https://google.github.io/adk-docs/tools/) in the ADK docs."
      ]
    },
    {
      "cell_type": "code",
      "execution_count": 32,
      "id": "D7Vj4_-aiykD",
      "metadata": {
        "id": "D7Vj4_-aiykD"
      },
      "outputs": [],
      "source": [
        "from typing import Dict\n",
        "\n",
        "def find_shopping_items(queries: list[str]) -> Dict[str, str]:\n",
        "    \"\"\"\n",
        "    Find shopping items from the e-commerce site with the specified list of\n",
        "    queries.\n",
        "\n",
        "    Args:\n",
        "        queries: the list of queries to run.\n",
        "    Returns:\n",
        "        A dict with the following one property:\n",
        "            - \"status\": returns the following status:\n",
        "                - \"success\": successful execution\n",
        "            - \"items\": items found in the e-commerce site.\n",
        "    \"\"\"\n",
        "    url = \"https://www.ac0.cloudadvocacyorg.joonix.net/api/query\"\n",
        "\n",
        "    items = []\n",
        "    for query in queries:\n",
        "        result = call_vector_search(\n",
        "            url=url,\n",
        "            query=query,\n",
        "            rows=3,\n",
        "        )\n",
        "        items.extend(result[\"items\"])\n",
        "\n",
        "    print(\"-----\")\n",
        "    print(f\"User queries: {queries}\")\n",
        "    print(f\"Found: {len(items)} items\")\n",
        "    print(\"-----\")\n",
        "    return items\n",
        "\n"
      ]
    },
    {
      "cell_type": "markdown",
      "id": "_2bMByoWX8De",
      "metadata": {
        "id": "_2bMByoWX8De"
      },
      "source": [
        "Let's test this tool."
      ]
    },
    {
      "cell_type": "code",
      "execution_count": 33,
      "id": "KMWwG9CJl0zR",
      "metadata": {
        "colab": {
          "base_uri": "https://localhost:8080/"
        },
        "id": "KMWwG9CJl0zR",
        "outputId": "aed8653b-1519-4e46-ff59-7cf0b168610b"
      },
      "outputs": [
        {
          "name": "stdout",
          "output_type": "stream",
          "text": [
            "-----\n",
            "User queries: ['Cup with dancing animal', 'Cups with dancing peeople']\n",
            "Found: 6 items\n",
            "-----\n"
          ]
        },
        {
          "data": {
            "text/plain": [
              "[{'dense_dist': 0.21062757074832916,\n",
              "  'description': 'Dansk Bistro Christmas mug\\nNo cracks or chips\\nHand painted graphics on both sides\\nPlease see all photos as they are part of the description \\n\\n\\n\\n\\nPlease note: I ship via the fastest and most reasonable methods that Mercari offers. Especially with fragile items. That being said, please check out my shop for more as I’m happy to bundle and save you on shipping',\n",
              "  'id': 'm75681278572',\n",
              "  'img_url': 'https://u-mercari-images.mercdn.net/photos/m75681278572_1.jpg?w=200&h=200&fitcrop&sharpen',\n",
              "  'name': 'Dansk Bistro Christmas mug -reindeer',\n",
              "  'rerank_score': 0.0,\n",
              "  'sparse_dist': None,\n",
              "  'url': 'https://www.mercari.com/us/item/m75681278572'},\n",
              " {'dense_dist': 0.0,\n",
              "  'description': 'Brand new / dancing figure',\n",
              "  'id': 'm11326867382',\n",
              "  'img_url': 'https://u-mercari-images.mercdn.net/photos/m11326867382_1.jpg?w=200&h=200&fitcrop&sharpen',\n",
              "  'name': 'Hello Kitty Dancing figure',\n",
              "  'rerank_score': 0.0,\n",
              "  'sparse_dist': 0.48474636673927307,\n",
              "  'url': 'https://www.mercari.com/us/item/m11326867382'},\n",
              " {'dense_dist': 0.19591675698757172,\n",
              "  'description': 'VINTAGE CERAMIC MUG \\nHOLLAND THEME \\nCRAZING INSIDE NO CHIPS OR CRACKS\\nBC MARKED ON BOTTOM \\nSMOKE-FREE HOME\\n\\n\\n\\n\\n3/23-2\\n1lb 4oz\\nSHD',\n",
              "  'id': 'm31752226664',\n",
              "  'img_url': 'https://u-mercari-images.mercdn.net/photos/m31752226664_1.jpg?w=200&h=200&fitcrop&sharpen',\n",
              "  'name': 'VINTAGE CERAMIC MUG COLLECTIBLE HOLLAND THEME CRAZING INSIDE BC MARKED ON BOTTOM',\n",
              "  'rerank_score': 0.0,\n",
              "  'sparse_dist': None,\n",
              "  'url': 'https://www.mercari.com/us/item/m31752226664'},\n",
              " {'dense_dist': 0.1753026396036148,\n",
              "  'description': 'Set of three VINTAGE Waechtersbach coffee cups from West Germany.  Originally purchased in West Germany in the 1950s.  Excellent condition.',\n",
              "  'id': 'm38079163347',\n",
              "  'img_url': 'https://u-mercari-images.mercdn.net/photos/m38079163347_1.jpg?w=200&h=200&fitcrop&sharpen',\n",
              "  'name': 'Waechtersbach Coffee Cups',\n",
              "  'rerank_score': 0.0,\n",
              "  'sparse_dist': None,\n",
              "  'url': 'https://www.mercari.com/us/item/m38079163347'},\n",
              " {'dense_dist': 0.0,\n",
              "  'description': 'Brand new / dancing figure',\n",
              "  'id': 'm11326867382',\n",
              "  'img_url': 'https://u-mercari-images.mercdn.net/photos/m11326867382_1.jpg?w=200&h=200&fitcrop&sharpen',\n",
              "  'name': 'Hello Kitty Dancing figure',\n",
              "  'rerank_score': 0.0,\n",
              "  'sparse_dist': 0.5455194115638733,\n",
              "  'url': 'https://www.mercari.com/us/item/m11326867382'},\n",
              " {'dense_dist': 0.17081856727600098,\n",
              "  'description': 'Pottery Barn Christmas Reindeer Mugs - Dasher, Dancer, Prancer & Vixen Set of 4',\n",
              "  'id': 'm81366738028',\n",
              "  'img_url': 'https://u-mercari-images.mercdn.net/photos/m81366738028_1.jpg?w=200&h=200&fitcrop&sharpen',\n",
              "  'name': 'Pottery barn reindeer mugs',\n",
              "  'rerank_score': 0.0,\n",
              "  'sparse_dist': None,\n",
              "  'url': 'https://www.mercari.com/us/item/m81366738028'}]"
            ]
          },
          "execution_count": 33,
          "metadata": {},
          "output_type": "execute_result"
        }
      ],
      "source": [
        "find_shopping_items([\"Cup with dancing animal\",\"Cups with dancing peeople\"])"
      ]
    },
    {
      "cell_type": "code",
      "execution_count": null,
      "id": "1985741c",
      "metadata": {},
      "outputs": [],
      "source": []
    },
    {
      "cell_type": "code",
      "execution_count": null,
      "id": "dc4da57b",
      "metadata": {},
      "outputs": [],
      "source": []
    },
    {
      "cell_type": "code",
      "execution_count": null,
      "id": "19acfad9",
      "metadata": {},
      "outputs": [],
      "source": []
    },
    {
      "cell_type": "markdown",
      "id": "S1E0TEB7ryBe",
      "metadata": {
        "id": "S1E0TEB7ryBe"
      },
      "source": [
        "## Add the tool to **Shop agent**\n",
        "\n",
        "It's ready to add the Tool to the Shop agent. The following parts are added:\n",
        "\n",
        "- Addition to the `instruction`: `To find items use find_shopping_items tool by passing a list of queries, and answer to the user with item's name, description and img_url`\n",
        "- Adding `tools` parameter to the `Agent` constructor: `tools=[find_shopping_items]`\n",
        "\n"
      ]
    },
    {
      "cell_type": "code",
      "execution_count": 36,
      "id": "sHVv95QUnDHE",
      "metadata": {
        "id": "sHVv95QUnDHE"
      },
      "outputs": [],
      "source": [
        "instruction = f'''\n",
        "    Your role is a shop search agent on an e-commerce site with millions of\n",
        "    items. Your responsibility is to search items based on the queries you\n",
        "    recieve.\n",
        "\n",
        "    To find items use `find_shopping_items` tool by passing a list of queries,\n",
        "    and answer to the user with item's name, description and img_url\n",
        "'''\n",
        "\n",
        "shop_agent = Agent(\n",
        "    model='gemini-2.5-flash',\n",
        "    name='shop_agent',\n",
        "    description=(\n",
        "        'Shop agent for an e-commerce site'\n",
        "    ),\n",
        "    instruction=instruction,\n",
        "    tools=[find_shopping_items],\n",
        ")"
      ]
    },
    {
      "cell_type": "markdown",
      "id": "Q2jMH45yY540",
      "metadata": {
        "id": "Q2jMH45yY540"
      },
      "source": [
        "Let's test the agent."
      ]
    },
    {
      "cell_type": "code",
      "execution_count": 37,
      "id": "L4CpsCzWnfIj",
      "metadata": {
        "colab": {
          "base_uri": "https://localhost:8080/"
        },
        "id": "L4CpsCzWnfIj",
        "outputId": "51d60d11-67e0-4979-98a2-6513cd21d028"
      },
      "outputs": [
        {
          "name": "stdout",
          "output_type": "stream",
          "text": [
            "\n",
            ">> query :Cups with dancing figures\n",
            "-----\n",
            "User queries: ['Cups with dancing figures']\n",
            "Found: 3 items\n",
            "-----\n",
            "<< Agent response:Here are a few items that might interest you:\n",
            "\n",
            "*   **Name:** Mayfair Collection By Jay-African Ladies/Baskets/Sun- Tea/Coffee Cup/Mug\n",
            "    **Description:** Mayfair Collection By Jay-African Ladies/Baskets/Sun- Tea/Coffee Cup/Mug. The mugs are in very good pre-owned condition with no cracks, chips, crazing, or visible scratches. There may be worn consistent with normal use as this is a preloved item. Please view photos carefully for condition. This item presents as it has not been used much. Dimensions: 4.25\" tall x 4.5\" wide with handle x 3.25\" across NON-SMOKING AND PET-FREE pre-owned Items are washed and professionally cleaned before being mailed out to customers. Please check my other listings for more great items. I am always happy to combine items from multiple purchases whenever possible to save you $$$ on shipping costs. Message me if you have any questions. Note: Shop More Save More!!! All reasonable offers will be accepted, no lowball offers, please.\n",
            "    **Image:** https://u-mercari-images.mercdn.net/photos/m83437179830_1.jpg?w=200&h=200&fitcrop&sharpen\n",
            "\n",
            "*   **Name:** Easter Decor Dancing Solar items lot of 4 Solar Figures\n",
            "    **Description:** Set of 4 cool Solar Moving Easter Decorations. Dancing Rabbit in Egg Dancing Male Bunny in Car Dancing Girl Bunny in Car Dancing Hatching Chicken 4.5 inch tall Mer 2\n",
            "    **Image:** https://u-mercari-images.mercdn.net/photos/m70687026186_1.jpg?w=200&h=200&fitcrop&sharpen\n",
            "\n",
            "*   **Name:** Vintage Berquist Figgjo coffee mugs\n",
            "    **Description:** Vintage hardanger dancer bergquist figgjo coffee mugs\n",
            "    **Image:** https://u-mercari-images.mercdn.net/photos/m10172014563_1.jpg?w=200&h=200&fitcrop&sharpen\n"
          ]
        }
      ],
      "source": [
        "await test_agent(\"Cups with dancing figures\",shop_agent)"
      ]
    },
    {
      "cell_type": "code",
      "execution_count": null,
      "id": "690aded4",
      "metadata": {},
      "outputs": [],
      "source": []
    },
    {
      "cell_type": "markdown",
      "id": "IoKVQ8vcr2zL",
      "metadata": {
        "id": "IoKVQ8vcr2zL"
      },
      "source": [
        "## Define **Research agent** with Google Search grounding\n",
        "\n",
        "Next, we will define another agent `research_agent`. This agent will take the user query and use the built-in Google Search tool for researching on what kind of items people are purchasing for the user's intent. Then generate 5 queries for finding those items.\n",
        "\n",
        "Note that the following agent definition specifies `google_search` as a tool. With this, the agent obtains a capability to use Google Search. For details about the Google Search tool, refer to [Google Search](https://google.github.io/adk-docs/tools/built-in-tools/#google-search) on the ADK docs."
      ]
    },
    {
      "cell_type": "code",
      "execution_count": null,
      "id": "cL-EDlNtoRk5",
      "metadata": {
        "id": "cL-EDlNtoRk5"
      },
      "outputs": [],
      "source": [
        "from google.adk.tools import google_search\n",
        "\n",
        "instruction = f'''\n",
        "    Your role is a market researcher for an e-commerce site with millions of\n",
        "    items.\n",
        "\n",
        "    When you recieved a search request from an user, use Google Search tool to\n",
        "    research on what kind of items people are purchasing for the user's intent.\n",
        "\n",
        "    Then, generate 5 queries finding those items on the e-commerce site and\n",
        "    return them.\n",
        "'''\n",
        "\n",
        "research_agent = Agent(\n",
        "    model='gemini-2.5-flash',\n",
        "    name='research_agent',\n",
        "    description=('''\n",
        "        A market researcher for an e-commerce site. Receives a search request\n",
        "        from a user, and returns a list of 5 generated queries in English.\n",
        "    '''),\n",
        "    instruction=instruction,\n",
        "    tools=[google_search],\n",
        ")"
      ]
    },
    {
      "cell_type": "markdown",
      "id": "-i3ou53eivrP",
      "metadata": {
        "id": "-i3ou53eivrP"
      },
      "source": [
        "Let's test the agent."
      ]
    },
    {
      "cell_type": "code",
      "execution_count": null,
      "id": "0FYYM9zLpJ2L",
      "metadata": {
        "colab": {
          "base_uri": "https://localhost:8080/"
        },
        "id": "0FYYM9zLpJ2L",
        "outputId": "e2f276cd-5368-4452-96f0-925f3dae48a1"
      },
      "outputs": [],
      "source": [
        "await test_agent(\"birthday present for my 8 year old daughter\",research_agent)"
      ]
    },
    {
      "cell_type": "markdown",
      "id": "qlgJf8sGwnDl",
      "metadata": {
        "id": "qlgJf8sGwnDl"
      },
      "source": [
        "## Finalize the **Shop agent**\n",
        "\n",
        "To wrap up, we modify the `shop_agent` to use both `reseach_agent` and `find_shopping_items` tool."
      ]
    },
    {
      "cell_type": "code",
      "execution_count": 40,
      "id": "gnsNNcSbwi5e",
      "metadata": {
        "id": "gnsNNcSbwi5e"
      },
      "outputs": [],
      "source": [
        "instruction= f'''\n",
        "    Your role is a shopper's concierge for an e-commerce site with millions of\n",
        "    items. Follow the following steps.\n",
        "\n",
        "    When you recieved a search request from an user, pass it to `research_agent`\n",
        "    tool, and receive 5 generated queries. Then, pass the list of queries to\n",
        "    `find_shopping_items` to find items. When you recieved a list of items from\n",
        "    the tool, answer to the user with item's name, description and the image url.\n",
        "'''\n",
        "\n",
        "shop_agent=Agent(\n",
        "    model='gemini-2.5-flash',\n",
        "    name='shop_agent',\n",
        "    description=(\n",
        "        'A shopper concierge for an e-commerce site'\n",
        "    ),\n",
        "    instruction=instruction,\n",
        "    tools=[\n",
        "        AgentTool(agent=research_agent),\n",
        "        find_shopping_items,\n",
        "    ]\n",
        ")"
      ]
    },
    {
      "cell_type": "markdown",
      "id": "FQh_PCsInr7V",
      "metadata": {
        "id": "FQh_PCsInr7V"
      },
      "source": [
        "Let's test the agent. First, the user asks the agent for finding items. The Shop agent will call the Research agent for generating queries using Google Search Results."
      ]
    },
    {
      "cell_type": "code",
      "execution_count": 42,
      "id": "kFDWW2qExjnL",
      "metadata": {
        "colab": {
          "base_uri": "https://localhost:8080/"
        },
        "id": "kFDWW2qExjnL",
        "outputId": "45a13cfb-a4cc-42c6-917d-8d2158f09ce9"
      },
      "outputs": [
        {
          "name": "stdout",
          "output_type": "stream",
          "text": [
            "\n",
            ">> query :Can you find birthday present for my 8 year old daughter?\n",
            "-----\n",
            "User queries: ['Craft and jewelry making kits for 8 year old girls', 'STEM science kits for 8 year old girls', 'LEGO sets for 8 year old girls', 'Outdoor toys and sports equipment for 8 year old girls', 'Popular books and graphic novels for 8 year old girls']\n",
            "Found: 15 items\n",
            "-----\n",
            "<< Agent response:Here are some birthday present ideas for your 8-year-old daughter:\n",
            "\n",
            "*   **Craft kits**\n",
            "    Description: 2 craft kits. Includes fabric and instructions for projects\n",
            "    Image: https://u-mercari-images.mercdn.net/photos/m54900134619_1.jpg?w=200&h=200&fitcrop&sharpen\n",
            "\n",
            "*   **⭐ 6750 Pcs Clay Beads Kit for Bracelet Making, 28 Colors ⭐**\n",
            "    Description: 【PRODUCT DESCRIPTION】Our team pays great attention to the matching of beads in the kit, so we spend a long time to choose the type of beads in our products. Also, this helps our customers to create more beautiful jewelry that is different from other products and makes DIY easy!【WHAT'S IN OUR BOX】 contains two 28-compartment storage boxes and an accessory package. One box has about 5,600 flat plastic clay beads in 28 colors, another has about 1100 accessory beads (including alphabet beads,evil eye beads and resin type,mixed-color crystal glass beads and smiley beads, gold spacer beads ,earring hooks,jump rings, lobster clasps, etc.) Accessory package contains 2 rolls of 8m elastic cords, a pair of scissors and metal tweezers, 10 earring rings, 19 pendants, 10 tassels\n",
            "    Image: https://u-mercari-images.mercdn.net/photos/m61501486719_1.jpg?w=200&h=200&fitcrop&sharpen\n",
            "\n",
            "*   **Craft kits**\n",
            "    Description: 13 Halloween craft kits. Great for teachers parents parties\n",
            "    Image: https://u-mercari-images.mercdn.net/photos/m39341351242_1.jpg?w=200&h=200&fitcrop&sharpen\n",
            "\n",
            "*   **Black Diamond Dual Stem Wire #4**\n",
            "    Description: Price for 5 dual stem wire repair kits.\n",
            "    Image: https://u-mercari-images.mercdn.net/photos/m31020353571_1.jpg?w=200&h=200&fitcrop&sharpen\n",
            "\n",
            "*   **Epic lab make & break tester new**\n",
            "    Description: Engineer the strongest structures and test their durability with Epic Lab's Make and Break Tester Kit. Following the educational instruction guide, design and build skyscrapers with different geometric shapes to see how they perform when you place them in a working shake table. Adjust your designs using different foundations, bracing shapes and dampers to increase stability and durability. Using the same principles, test your knowledge by creating bridges that can span a gap and hold the most weight. This engineering project gives you endless possibilities to create the best structural design.\n",
            "    Image: https://u-mercari-images.mercdn.net/photos/m64575581664_1.jpg?w=200&h=200&fitcrop&sharpen\n",
            "\n",
            "*   **Pair of Cross Stitch Kits**\n",
            "    Description: Both of these kits are new/old stock & have never been opened.\n",
            "    Image: https://u-mercari-images.mercdn.net/photos/m35519023992_1.jpg?w=200&h=200&fitcrop&sharpen\n",
            "\n",
            "*   **Lego Friends 41317 Sunshine Catamaran**\n",
            "    Description: Lego Friends 41317 Sunshine Catamaran Missing 2 Pieces and 2 were replaced with similar pieces. All Minifigures and I believe all stickers come with it. No instructions and no box.\n",
            "    Image: https://u-mercari-images.mercdn.net/photos/m20806648080_1.jpg?w=200&h=200&fitcrop&sharpen\n",
            "\n",
            "*   **Lego Star Wars**\n",
            "    Description: Old Lego sets good condition\n",
            "    Image: https://u-mercari-images.mercdn.net/photos/m46869053992_1.jpg?w=200&h=200&fitcrop&sharpen\n",
            "\n",
            "*   **LEGO Friends 3061 : City Park Cafe + Minifigures**\n",
            "    Description: LEGO Friends City Park Cafe set in good condition. All pieces and minifigures are included, as in the instruction booklet. A couple of the decals are missing. No Box included.\n",
            "    Image: https://u-mercari-images.mercdn.net/photos/m32743515148_1.jpg?w=200&h=200&fitcrop&sharpen\n",
            "\n",
            "*   **Dinosaur Toys for 3-8 Year Old**\n",
            "    Description: Dinosaur Toys for 3-8 Year Old Girls,Dino Projection Kids Toys for 3-8 Year Olds Girls 2 in 1 Car Toys for 2-10 Year Olds Girls,Chirstmas Xmax Easter Gifts for 2-10 Year Olds Kids Toddler Toys(Pink).\n",
            "    Image: https://u-mercari-images.mercdn.net/photos/m18938674867_1.jpg?w=200&h=200&fitcrop&sharpen\n",
            "\n",
            "*   **Exercise hoop for kids with jump rope**\n",
            "    Description: Adjustable Light Exercise Hoop for Kids - Colorful Plastic Toy Exercise Hoop with Present Kids Jump Rope\n",
            "    Image: https://u-mercari-images.mercdn.net/photos/m57956121813_1.jpg?w=200&h=200&fitcrop&sharpen\n",
            "\n",
            "*   **Learnabee Toys for 3 Year Old Boys/Girls | Gift for 3 Year Old Kids | Board Book**\n",
            "    Description: Learnabee Toys for 3 Year Old Boys/Girls | Gift for 3 Year Old Kids | Board Books and Fun Activities | Learning and Educational Toys & Games (1 Box Set)\n",
            "    Image: https://u-mercari-images.mercdn.net/photos/m94108666931_1.jpg?w=200&h=200&fitcrop&sharpen\n",
            "\n",
            "*   **10 Children’s Books**\n",
            "    Description: 2 DC Superheroes Superman 3 Judy Moody 1 Judy Blume 1 Marvel Antman 1 Runaway Ralph 1 The Only Girl in School 1 E is for Ethics lol\n",
            "    Image: https://u-mercari-images.mercdn.net/photos/m75475229130_1.jpg?w=200&h=200&fitcrop&sharpen\n",
            "\n",
            "*   **Chapter Books/Graphic Novels Age 6-10**\n",
            "    Description: 21 books that start at early chapter books to older elementary books plus graphic novels\n",
            "    Image: https://u-mercari-images.mercdn.net/photos/m80560515299_1.jpg?w=200&h=200&fitcrop&sharpen\n",
            "\n",
            "*   **Bundle of 3 Brand New Tween/Paperback Books**\n",
            "    Description: This bundle includes: • Judy Blume \"Otherwise Known as Shiela the Great\" • Judy Blume \"Tales of a Fourth Grade Nothing\" • Amy Ingatow \"The Popularity Papers\" All brand new, never even opened. Smoke free home.\n",
            "    Image: https://u-mercari-images.mercdn.net/photos/m13308920046_1.jpg?w=200&h=200&fitcrop&sharpen\n"
          ]
        }
      ],
      "source": [
        "await test_agent(\"Can you find birthday present for my 8 year old daughter?\",shop_agent)"
      ]
    },
    {
      "cell_type": "markdown",
      "id": "lqb5_9FOog0D",
      "metadata": {
        "id": "lqb5_9FOog0D"
      },
      "source": [
        "## Summary\n",
        "\n",
        "In this tutorial, we went through the process of constructing a multi-agent system for an e-commerce platform, focusing on \"Generative Recommendations\".\n",
        "\n",
        "Through this progression, the tutorial illustrated how to build a sophisticated AI agent system that can understand user intent, perform research, generate targeted queries, and provide relevant product recommendations in an e-commerce context using ADK and external search capabilities.\n"
      ]
    }
  ],
  "metadata": {
    "colab": {
      "name": "shop_agent.ipynb",
      "provenance": []
    },
    "kernelspec": {
      "display_name": "base",
      "language": "python",
      "name": "python3"
    },
    "language_info": {
      "codemirror_mode": {
        "name": "ipython",
        "version": 3
      },
      "file_extension": ".py",
      "mimetype": "text/x-python",
      "name": "python",
      "nbconvert_exporter": "python",
      "pygments_lexer": "ipython3",
      "version": "3.12.7"
    }
  },
  "nbformat": 4,
  "nbformat_minor": 5
}
